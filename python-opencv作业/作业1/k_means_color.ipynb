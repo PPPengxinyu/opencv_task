{
 "cells": [
  {
   "cell_type": "markdown",
   "metadata": {},
   "source": [
    "# k_means颜色聚类"
   ]
  },
  {
   "cell_type": "markdown",
   "metadata": {},
   "source": [
    "### k_means聚类算法的思想比较简单，主要步骤如下\n",
    "### 1.确定k个聚类中心\n",
    "### 2.循环遍历每个样本点，计算样本点与各个聚类中心的距离，选出最小距离的一类，将该样本点划分为该类的聚类\n",
    "### 3.所有样本遍历完成之后，重新计算各类的聚类中心\n",
    "#### （1）若聚类中心与上次聚类中心相同，则说明收敛过程结束，该k个聚类即为最后聚类结果\n",
    "#### （2）若积累中心与上次聚类中心不同，则说明还应该继续收敛，应继续执行步骤2"
   ]
  },
  {
   "cell_type": "markdown",
   "metadata": {},
   "source": [
    "## 在图像颜色聚类上，传统的空间欧氏距离则为像素的颜色距离（像素各个通道的差值），各个聚类的中心则为该类像素的颜色均值"
   ]
  },
  {
   "cell_type": "code",
   "execution_count": 3,
   "metadata": {},
   "outputs": [],
   "source": [
    "#加载需要的库\n",
    "import cv2\n",
    "import numpy as np\n",
    "import matplotlib.pyplot as plt #方便在jupyter中显示图像"
   ]
  },
  {
   "cell_type": "code",
   "execution_count": 21,
   "metadata": {},
   "outputs": [],
   "source": [
    "#########定义一个k_means图片分类器\n",
    "class KM_IMG:\n",
    "    \n",
    "    # 初始化构造函数\n",
    "    def __init__(self, img_name):\n",
    "        self.img = cv2.imread(img_name) #加载原始图片\n",
    "        self.img_rgb = cv2.cvtColor(self.img, cv2.COLOR_BGR2RGB) #将图片格式转换成rgb通道\n",
    "        self.height, self.width, self.channels = self.img.shape # 返回图片的高，宽，和通道数\n",
    "        self.list_center = [] #设置存放聚类中心的列表\n",
    "        self.dict_label_position = {} #用以保存每一类的像素点位置\n",
    "        \n",
    "    # 随机生成聚类中心函数\n",
    "    def rand_center(self, k):\n",
    "        self.list_center = [] #设置存放聚类中心的列表\n",
    "        for i in range(0,k):\n",
    "            np.random.seed(i+1) #设置随机种子，是每次产生的随机数相同\n",
    "            #[r, g, b] = np.random.randint(0, 255, self.channels) #随机生成三通道\n",
    "            self.list_center.append(np.random.randint(0, 255, self.channels)) #添加到初试聚类中心列表中\n",
    "        return self.list_center\n",
    "    \n",
    "    # 定义k_means颜色聚类函数\n",
    "    def color_means(self):\n",
    "        while(True):\n",
    "            # 遍历每个像素\n",
    "            dict_label_total = {} #应以保存每类的像素点的像素值综总和\n",
    "            dict_label_num = {} #用以保存每一次聚类各类的像素点数目\n",
    "            for x in range(self.height): #遍历每行\n",
    "                for y in range(self.width): #遍历每列\n",
    "                    # 与每个聚类中心计算距离\n",
    "                    list_dist = [] #存放与聚类中心距离的列表\n",
    "                    for center in self.list_center: #遍历每个聚类中心\n",
    "                        dist = np.sqrt(np.sum(np.square(self.img_rgb[x, y] - center))) #计算颜色距离\n",
    "                        list_dist.append(dist)\n",
    "\n",
    "                    k_min = np.argmin(list_dist) #找出距离最小的一类,返回其对应的位置（k的值）\n",
    "                    dict_label_total[k_min] = dict_label_total.get(k_min, np.zeros(self.channels)) + self.img_rgb[x, y] #将该类的像素值相加\n",
    "                    dict_label_num[k_min] = dict_label_num.get(k_min, 0) + 1 #将该类的数目加1\n",
    "                    self.dict_label_position[k_min] = self.dict_label_position.get(k_min,[]) # 这个地方不知道为什么直接用append会提示get方法返回的是NoneType类型\n",
    "                    self.dict_label_position[k_min].append((x,y)) #必须分开写才不报错\n",
    "\n",
    "            #重新计算聚类中心\n",
    "            list_center_new = [] # 设置的聚类中心\n",
    "            for i in range(len(dict_label_num)):\n",
    "                list_center_new.append(np.trunc(dict_label_total[i]/dict_label_num[i])) #计算颜色平均值并取整，将颜色均值添加到新的聚类中心列表当中\n",
    "            print('新的聚类中心为{}'.format(str(list_center_new))) #打印新的聚类中心\n",
    "\n",
    "            # 与之前的聚类中心比较\n",
    "            if str(list_center_new) == str(self.list_center): #若相同，则说明收敛结束，跳出循环\n",
    "                print('收敛结束，最终聚类中心为{}'.format(self.list_center))\n",
    "                break #        \n",
    "            else: #若新的聚类中心与之前的聚类中心不同，则继续下一次迭代\n",
    "                self.list_center = list_center_new\n",
    "    \n",
    "    # 定义图片染色函数\n",
    "    def dyeing(self):\n",
    "        # 对图片进行染色处理，染色颜色数为聚类个数k,染色颜色为聚类中心的颜色\n",
    "        img_color = self.img\n",
    "        for color in self.dict_label_position:\n",
    "            for pos in self.dict_label_position[color]:\n",
    "                img_color[pos[0],pos[1]] = self.list_center[color] #设置该像素点的颜色为聚类中心的颜色值\n",
    "        plt.imshow(img_color)\n",
    "        "
   ]
  },
  {
   "cell_type": "markdown",
   "metadata": {},
   "source": [
    "## 小测试"
   ]
  },
  {
   "cell_type": "code",
   "execution_count": 33,
   "metadata": {},
   "outputs": [
    {
     "name": "stdout",
     "output_type": "stream",
     "text": [
      "新的聚类中心为[array([ 77., 148., 109.]), array([14., 38., 25.]), array([135., 193., 151.]), array([113., 145., 103.]), array([197., 228., 187.])]\n",
      "新的聚类中心为[array([ 70., 138., 100.]), array([ 9., 27., 18.]), array([134., 192., 148.]), array([107., 160., 118.]), array([191., 229., 191.])]\n",
      "新的聚类中心为[array([ 58., 122.,  86.]), array([ 7., 23., 15.]), array([138., 194., 150.]), array([101., 166., 124.]), array([190., 228., 190.])]\n",
      "新的聚类中心为[array([ 50., 111.,  77.]), array([ 6., 19., 13.]), array([141., 196., 152.]), array([ 99., 165., 123.]), array([191., 228., 191.])]\n",
      "新的聚类中心为[array([ 45., 103.,  71.]), array([ 5., 16., 11.]), array([142., 196., 153.]), array([ 97., 163., 122.]), array([192., 229., 192.])]\n",
      "新的聚类中心为[array([41., 97., 66.]), array([ 4., 14., 10.]), array([142., 196., 153.]), array([ 95., 162., 120.]), array([193., 230., 192.])]\n",
      "新的聚类中心为[array([38., 93., 63.]), array([ 3., 13.,  9.]), array([141., 196., 153.]), array([ 94., 160., 119.]), array([193., 230., 193.])]\n",
      "新的聚类中心为[array([36., 90., 61.]), array([ 3., 12.,  8.]), array([141., 196., 152.]), array([ 92., 159., 118.]), array([193., 230., 193.])]\n",
      "新的聚类中心为[array([35., 88., 59.]), array([ 3., 11.,  8.]), array([140., 195., 152.]), array([ 91., 158., 117.]), array([193., 230., 193.])]\n",
      "新的聚类中心为[array([34., 87., 58.]), array([ 3., 10.,  7.]), array([139., 195., 151.]), array([ 90., 157., 116.]), array([193., 230., 192.])]\n",
      "新的聚类中心为[array([33., 86., 57.]), array([ 3., 10.,  7.]), array([138., 194., 150.]), array([ 89., 156., 115.]), array([192., 229., 192.])]\n",
      "新的聚类中心为[array([33., 85., 56.]), array([ 3., 10.,  7.]), array([137., 193., 150.]), array([ 88., 155., 114.]), array([191., 229., 191.])]\n",
      "新的聚类中心为[array([32., 84., 56.]), array([ 3., 10.,  7.]), array([136., 193., 149.]), array([ 87., 154., 114.]), array([191., 229., 191.])]\n",
      "新的聚类中心为[array([32., 83., 55.]), array([ 3., 10.,  7.]), array([135., 192., 148.]), array([ 87., 153., 113.]), array([190., 228., 190.])]\n",
      "新的聚类中心为[array([31., 83., 55.]), array([3., 9., 7.]), array([134., 191., 148.]), array([ 86., 152., 112.]), array([189., 228., 190.])]\n",
      "新的聚类中心为[array([31., 82., 54.]), array([3., 9., 7.]), array([133., 191., 147.]), array([ 85., 152., 111.]), array([189., 227., 189.])]\n",
      "新的聚类中心为[array([30., 81., 54.]), array([3., 9., 7.]), array([132., 190., 146.]), array([ 84., 151., 111.]), array([188., 227., 189.])]\n",
      "新的聚类中心为[array([30., 81., 53.]), array([3., 9., 6.]), array([131., 189., 146.]), array([ 83., 150., 110.]), array([187., 226., 188.])]\n",
      "新的聚类中心为[array([30., 80., 53.]), array([3., 9., 6.]), array([130., 189., 145.]), array([ 82., 149., 109.]), array([187., 226., 187.])]\n",
      "新的聚类中心为[array([29., 79., 53.]), array([2., 9., 6.]), array([129., 188., 144.]), array([ 81., 148., 108.]), array([186., 226., 187.])]\n",
      "新的聚类中心为[array([29., 79., 52.]), array([2., 8., 6.]), array([128., 187., 144.]), array([ 80., 147., 107.]), array([186., 225., 186.])]\n",
      "新的聚类中心为[array([29., 78., 52.]), array([2., 8., 6.]), array([127., 187., 143.]), array([ 79., 146., 107.]), array([185., 225., 186.])]\n",
      "新的聚类中心为[array([28., 78., 51.]), array([2., 8., 6.]), array([126., 186., 142.]), array([ 79., 145., 106.]), array([184., 224., 185.])]\n",
      "新的聚类中心为[array([28., 77., 51.]), array([2., 8., 6.]), array([125., 185., 142.]), array([ 78., 145., 105.]), array([183., 224., 185.])]\n",
      "新的聚类中心为[array([28., 76., 50.]), array([2., 8., 6.]), array([125., 185., 141.]), array([ 77., 144., 105.]), array([183., 223., 184.])]\n",
      "新的聚类中心为[array([27., 76., 50.]), array([2., 8., 6.]), array([124., 184., 141.]), array([ 76., 143., 104.]), array([182., 223., 184.])]\n",
      "新的聚类中心为[array([27., 75., 50.]), array([2., 8., 6.]), array([123., 184., 140.]), array([ 76., 142., 103.]), array([182., 223., 184.])]\n",
      "新的聚类中心为[array([27., 75., 49.]), array([2., 8., 6.]), array([123., 183., 140.]), array([ 75., 141., 103.]), array([182., 223., 183.])]\n",
      "新的聚类中心为[array([27., 75., 49.]), array([2., 8., 6.]), array([122., 183., 140.]), array([ 74., 141., 102.]), array([181., 222., 183.])]\n",
      "新的聚类中心为[array([26., 75., 49.]), array([2., 8., 6.]), array([121., 182., 139.]), array([ 74., 140., 102.]), array([181., 222., 183.])]\n",
      "新的聚类中心为[array([26., 74., 49.]), array([2., 8., 6.]), array([121., 182., 139.]), array([ 73., 140., 101.]), array([180., 222., 182.])]\n",
      "新的聚类中心为[array([26., 74., 48.]), array([2., 8., 6.]), array([120., 182., 138.]), array([ 73., 139., 101.]), array([180., 222., 182.])]\n",
      "新的聚类中心为[array([26., 73., 48.]), array([2., 7., 5.]), array([120., 181., 138.]), array([ 72., 139., 100.]), array([180., 221., 182.])]\n",
      "新的聚类中心为[array([26., 73., 48.]), array([2., 7., 5.]), array([119., 181., 138.]), array([ 72., 138., 100.]), array([180., 221., 181.])]\n",
      "新的聚类中心为[array([25., 73., 48.]), array([2., 7., 5.]), array([119., 181., 137.]), array([ 71., 138.,  99.]), array([179., 221., 181.])]\n",
      "新的聚类中心为[array([25., 72., 47.]), array([2., 7., 5.]), array([119., 180., 137.]), array([ 71., 137.,  99.]), array([179., 221., 181.])]\n",
      "新的聚类中心为[array([25., 72., 47.]), array([2., 7., 5.]), array([118., 180., 137.]), array([ 70., 136.,  98.]), array([179., 221., 181.])]\n",
      "新的聚类中心为[array([25., 71., 47.]), array([2., 7., 5.]), array([118., 180., 137.]), array([ 69., 135.,  97.]), array([179., 221., 181.])]\n",
      "新的聚类中心为[array([24., 71., 46.]), array([2., 7., 5.]), array([117., 179., 136.]), array([ 69., 135.,  97.]), array([179., 221., 181.])]\n",
      "新的聚类中心为[array([24., 70., 46.]), array([2., 7., 5.]), array([117., 179., 136.]), array([ 68., 134.,  96.]), array([178., 220., 180.])]\n",
      "新的聚类中心为[array([24., 70., 46.]), array([2., 7., 5.]), array([116., 179., 136.]), array([ 68., 134.,  96.]), array([178., 220., 180.])]\n",
      "新的聚类中心为[array([24., 70., 46.]), array([2., 7., 5.]), array([116., 179., 136.]), array([ 68., 133.,  96.]), array([178., 220., 180.])]\n",
      "新的聚类中心为[array([24., 70., 46.]), array([2., 7., 5.]), array([116., 178., 135.]), array([ 67., 133.,  95.]), array([178., 220., 180.])]\n",
      "新的聚类中心为[array([24., 70., 46.]), array([2., 7., 5.]), array([116., 178., 135.]), array([ 67., 133.,  95.]), array([177., 220., 180.])]\n",
      "新的聚类中心为[array([24., 70., 46.]), array([2., 7., 5.]), array([115., 178., 135.]), array([ 67., 133.,  95.]), array([177., 220., 179.])]\n",
      "新的聚类中心为[array([24., 70., 46.]), array([2., 7., 5.]), array([115., 178., 135.]), array([ 67., 133.,  95.]), array([177., 219., 179.])]\n",
      "新的聚类中心为[array([24., 70., 46.]), array([2., 7., 5.]), array([115., 178., 135.]), array([ 67., 133.,  95.]), array([177., 219., 179.])]\n",
      "收敛结束，最终聚类中心为[array([24., 70., 46.]), array([2., 7., 5.]), array([115., 178., 135.]), array([ 67., 133.,  95.]), array([177., 219., 179.])]\n"
     ]
    },
    {
     "data": {
      "image/png": "[encoded data removed]",
      "text/plain": [
       "<Figure size 432x288 with 1 Axes>"
      ]
     },
     "metadata": {
      "needs_background": "light"
     },
     "output_type": "display_data"
    }
   ],
   "source": [
    "km = KM_IMG('img3.png') #实例化一个聚类对象\n",
    "km.rand_center(5) #设置聚类中心个数\n",
    "km.color_means() #进行聚类\n",
    "km.dyeing() #显示聚类之后染色的图片"
   ]
  }
 ],
 "metadata": {
  "kernelspec": {
   "display_name": "Python 3",
   "language": "python",
   "name": "python3"
  },
  "language_info": {
   "codemirror_mode": {
    "name": "ipython",
    "version": 3
   },
   "file_extension": ".py",
   "mimetype": "text/x-python",
   "name": "python",
   "nbconvert_exporter": "python",
   "pygments_lexer": "ipython3",
   "version": "3.6.6"
  }
 },
 "nbformat": 4,
 "nbformat_minor": 4
}
